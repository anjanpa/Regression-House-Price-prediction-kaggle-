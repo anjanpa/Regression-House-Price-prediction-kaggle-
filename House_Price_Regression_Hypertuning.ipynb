{
  "nbformat": 4,
  "nbformat_minor": 0,
  "metadata": {
    "colab": {
      "name": "House Price Regression Hypertuning.ipynb",
      "provenance": [],
      "collapsed_sections": [],
      "mount_file_id": "1TrkfnlMExIraEDDlqAVUer1b60GFBBly",
      "authorship_tag": "ABX9TyNpDDkW3HHHEpOjfqtbGoF7",
      "include_colab_link": true
    },
    "kernelspec": {
      "name": "python3",
      "display_name": "Python 3"
    },
    "accelerator": "GPU"
  },
  "cells": [
    {
      "cell_type": "markdown",
      "metadata": {
        "id": "view-in-github",
        "colab_type": "text"
      },
      "source": [
        "<a href=\"https://colab.research.google.com/github/anjanpa/Regression-House-Price-prediction-kaggle-/blob/master/House_Price_Regression_Hypertuning.ipynb\" target=\"_parent\"><img src=\"https://colab.research.google.com/assets/colab-badge.svg\" alt=\"Open In Colab\"/></a>"
      ]
    },
    {
      "cell_type": "code",
      "metadata": {
        "id": "07icFQVnerqn",
        "colab_type": "code",
        "colab": {}
      },
      "source": [
        ""
      ],
      "execution_count": null,
      "outputs": []
    },
    {
      "cell_type": "code",
      "metadata": {
        "id": "-hBSq0Ui95J3",
        "colab_type": "code",
        "colab": {}
      },
      "source": [
        "# Getting our tools ready\n",
        "import pandas as pd\n",
        "import numpy as plt\n",
        "import numpy as np\n"
      ],
      "execution_count": 5,
      "outputs": []
    },
    {
      "cell_type": "code",
      "metadata": {
        "id": "9he35Sye-SSV",
        "colab_type": "code",
        "colab": {}
      },
      "source": [
        "## IMporting the preprocessed data uploaded from jupyter \n",
        "train_preprocessed=pd.read_csv(\"/content/drive/My Drive/house_price_preprocessed_data.csv\")"
      ],
      "execution_count": 2,
      "outputs": []
    },
    {
      "cell_type": "code",
      "metadata": {
        "id": "2m_A6Fkl_z3L",
        "colab_type": "code",
        "colab": {
          "base_uri": "https://localhost:8080/",
          "height": 246
        },
        "outputId": "62c0ebe1-4b1d-4871-fff3-a4a1d0dc09e6"
      },
      "source": [
        "train_preprocessed.head(5)"
      ],
      "execution_count": 3,
      "outputs": [
        {
          "output_type": "execute_result",
          "data": {
            "text/html": [
              "<div>\n",
              "<style scoped>\n",
              "    .dataframe tbody tr th:only-of-type {\n",
              "        vertical-align: middle;\n",
              "    }\n",
              "\n",
              "    .dataframe tbody tr th {\n",
              "        vertical-align: top;\n",
              "    }\n",
              "\n",
              "    .dataframe thead th {\n",
              "        text-align: right;\n",
              "    }\n",
              "</style>\n",
              "<table border=\"1\" class=\"dataframe\">\n",
              "  <thead>\n",
              "    <tr style=\"text-align: right;\">\n",
              "      <th></th>\n",
              "      <th>Id</th>\n",
              "      <th>MSSubClass</th>\n",
              "      <th>MSZoning</th>\n",
              "      <th>LotFrontage</th>\n",
              "      <th>LotArea</th>\n",
              "      <th>Street</th>\n",
              "      <th>Alley</th>\n",
              "      <th>LotShape</th>\n",
              "      <th>LandContour</th>\n",
              "      <th>Utilities</th>\n",
              "      <th>LotConfig</th>\n",
              "      <th>LandSlope</th>\n",
              "      <th>Neighborhood</th>\n",
              "      <th>Condition1</th>\n",
              "      <th>Condition2</th>\n",
              "      <th>BldgType</th>\n",
              "      <th>HouseStyle</th>\n",
              "      <th>OverallQual</th>\n",
              "      <th>OverallCond</th>\n",
              "      <th>YearBuilt</th>\n",
              "      <th>YearRemodAdd</th>\n",
              "      <th>RoofStyle</th>\n",
              "      <th>RoofMatl</th>\n",
              "      <th>Exterior1st</th>\n",
              "      <th>Exterior2nd</th>\n",
              "      <th>MasVnrType</th>\n",
              "      <th>MasVnrArea</th>\n",
              "      <th>ExterQual</th>\n",
              "      <th>ExterCond</th>\n",
              "      <th>Foundation</th>\n",
              "      <th>BsmtQual</th>\n",
              "      <th>BsmtCond</th>\n",
              "      <th>BsmtExposure</th>\n",
              "      <th>BsmtFinType1</th>\n",
              "      <th>BsmtFinSF1</th>\n",
              "      <th>BsmtFinType2</th>\n",
              "      <th>BsmtFinSF2</th>\n",
              "      <th>BsmtUnfSF</th>\n",
              "      <th>TotalBsmtSF</th>\n",
              "      <th>Heating</th>\n",
              "      <th>...</th>\n",
              "      <th>CentralAir</th>\n",
              "      <th>Electrical</th>\n",
              "      <th>1stFlrSF</th>\n",
              "      <th>2ndFlrSF</th>\n",
              "      <th>LowQualFinSF</th>\n",
              "      <th>GrLivArea</th>\n",
              "      <th>BsmtFullBath</th>\n",
              "      <th>BsmtHalfBath</th>\n",
              "      <th>FullBath</th>\n",
              "      <th>HalfBath</th>\n",
              "      <th>BedroomAbvGr</th>\n",
              "      <th>KitchenAbvGr</th>\n",
              "      <th>KitchenQual</th>\n",
              "      <th>TotRmsAbvGrd</th>\n",
              "      <th>Functional</th>\n",
              "      <th>Fireplaces</th>\n",
              "      <th>FireplaceQu</th>\n",
              "      <th>GarageType</th>\n",
              "      <th>GarageYrBlt</th>\n",
              "      <th>GarageFinish</th>\n",
              "      <th>GarageCars</th>\n",
              "      <th>GarageArea</th>\n",
              "      <th>GarageQual</th>\n",
              "      <th>GarageCond</th>\n",
              "      <th>PavedDrive</th>\n",
              "      <th>WoodDeckSF</th>\n",
              "      <th>OpenPorchSF</th>\n",
              "      <th>EnclosedPorch</th>\n",
              "      <th>3SsnPorch</th>\n",
              "      <th>ScreenPorch</th>\n",
              "      <th>PoolArea</th>\n",
              "      <th>PoolQC</th>\n",
              "      <th>Fence</th>\n",
              "      <th>MiscFeature</th>\n",
              "      <th>MiscVal</th>\n",
              "      <th>MoSold</th>\n",
              "      <th>YrSold</th>\n",
              "      <th>SaleType</th>\n",
              "      <th>SaleCondition</th>\n",
              "      <th>SalePrice</th>\n",
              "    </tr>\n",
              "  </thead>\n",
              "  <tbody>\n",
              "    <tr>\n",
              "      <th>0</th>\n",
              "      <td>1350</td>\n",
              "      <td>70</td>\n",
              "      <td>5</td>\n",
              "      <td>50.0</td>\n",
              "      <td>5250</td>\n",
              "      <td>2</td>\n",
              "      <td>2</td>\n",
              "      <td>4</td>\n",
              "      <td>4</td>\n",
              "      <td>1</td>\n",
              "      <td>5</td>\n",
              "      <td>1</td>\n",
              "      <td>18</td>\n",
              "      <td>3</td>\n",
              "      <td>3</td>\n",
              "      <td>1</td>\n",
              "      <td>6</td>\n",
              "      <td>8</td>\n",
              "      <td>5</td>\n",
              "      <td>1872</td>\n",
              "      <td>1987</td>\n",
              "      <td>2</td>\n",
              "      <td>2</td>\n",
              "      <td>9</td>\n",
              "      <td>9</td>\n",
              "      <td>3</td>\n",
              "      <td>0.0</td>\n",
              "      <td>4</td>\n",
              "      <td>3</td>\n",
              "      <td>1</td>\n",
              "      <td>4</td>\n",
              "      <td>1</td>\n",
              "      <td>4</td>\n",
              "      <td>4</td>\n",
              "      <td>259</td>\n",
              "      <td>6</td>\n",
              "      <td>0</td>\n",
              "      <td>425</td>\n",
              "      <td>684</td>\n",
              "      <td>5</td>\n",
              "      <td>...</td>\n",
              "      <td>1</td>\n",
              "      <td>5</td>\n",
              "      <td>938</td>\n",
              "      <td>1215</td>\n",
              "      <td>205</td>\n",
              "      <td>2358</td>\n",
              "      <td>0</td>\n",
              "      <td>0</td>\n",
              "      <td>2</td>\n",
              "      <td>0</td>\n",
              "      <td>4</td>\n",
              "      <td>1</td>\n",
              "      <td>4</td>\n",
              "      <td>8</td>\n",
              "      <td>7</td>\n",
              "      <td>0</td>\n",
              "      <td>0</td>\n",
              "      <td>0</td>\n",
              "      <td>1980.0</td>\n",
              "      <td>0</td>\n",
              "      <td>0</td>\n",
              "      <td>0</td>\n",
              "      <td>0</td>\n",
              "      <td>0</td>\n",
              "      <td>3</td>\n",
              "      <td>0</td>\n",
              "      <td>54</td>\n",
              "      <td>20</td>\n",
              "      <td>0</td>\n",
              "      <td>0</td>\n",
              "      <td>0</td>\n",
              "      <td>0</td>\n",
              "      <td>0</td>\n",
              "      <td>0</td>\n",
              "      <td>0</td>\n",
              "      <td>12</td>\n",
              "      <td>2008</td>\n",
              "      <td>9</td>\n",
              "      <td>5</td>\n",
              "      <td>122000</td>\n",
              "    </tr>\n",
              "    <tr>\n",
              "      <th>1</th>\n",
              "      <td>1138</td>\n",
              "      <td>50</td>\n",
              "      <td>4</td>\n",
              "      <td>54.0</td>\n",
              "      <td>6342</td>\n",
              "      <td>2</td>\n",
              "      <td>0</td>\n",
              "      <td>4</td>\n",
              "      <td>4</td>\n",
              "      <td>1</td>\n",
              "      <td>5</td>\n",
              "      <td>1</td>\n",
              "      <td>20</td>\n",
              "      <td>2</td>\n",
              "      <td>3</td>\n",
              "      <td>1</td>\n",
              "      <td>1</td>\n",
              "      <td>5</td>\n",
              "      <td>8</td>\n",
              "      <td>1875</td>\n",
              "      <td>1996</td>\n",
              "      <td>2</td>\n",
              "      <td>2</td>\n",
              "      <td>13</td>\n",
              "      <td>14</td>\n",
              "      <td>3</td>\n",
              "      <td>0.0</td>\n",
              "      <td>4</td>\n",
              "      <td>3</td>\n",
              "      <td>2</td>\n",
              "      <td>4</td>\n",
              "      <td>4</td>\n",
              "      <td>4</td>\n",
              "      <td>6</td>\n",
              "      <td>0</td>\n",
              "      <td>6</td>\n",
              "      <td>0</td>\n",
              "      <td>780</td>\n",
              "      <td>780</td>\n",
              "      <td>2</td>\n",
              "      <td>...</td>\n",
              "      <td>1</td>\n",
              "      <td>5</td>\n",
              "      <td>780</td>\n",
              "      <td>240</td>\n",
              "      <td>0</td>\n",
              "      <td>1020</td>\n",
              "      <td>0</td>\n",
              "      <td>0</td>\n",
              "      <td>1</td>\n",
              "      <td>0</td>\n",
              "      <td>2</td>\n",
              "      <td>1</td>\n",
              "      <td>4</td>\n",
              "      <td>6</td>\n",
              "      <td>7</td>\n",
              "      <td>0</td>\n",
              "      <td>0</td>\n",
              "      <td>0</td>\n",
              "      <td>1980.0</td>\n",
              "      <td>0</td>\n",
              "      <td>0</td>\n",
              "      <td>0</td>\n",
              "      <td>0</td>\n",
              "      <td>0</td>\n",
              "      <td>1</td>\n",
              "      <td>0</td>\n",
              "      <td>0</td>\n",
              "      <td>176</td>\n",
              "      <td>0</td>\n",
              "      <td>0</td>\n",
              "      <td>0</td>\n",
              "      <td>0</td>\n",
              "      <td>0</td>\n",
              "      <td>0</td>\n",
              "      <td>0</td>\n",
              "      <td>5</td>\n",
              "      <td>2010</td>\n",
              "      <td>9</td>\n",
              "      <td>5</td>\n",
              "      <td>94000</td>\n",
              "    </tr>\n",
              "    <tr>\n",
              "      <th>2</th>\n",
              "      <td>748</td>\n",
              "      <td>70</td>\n",
              "      <td>5</td>\n",
              "      <td>65.0</td>\n",
              "      <td>11700</td>\n",
              "      <td>2</td>\n",
              "      <td>2</td>\n",
              "      <td>1</td>\n",
              "      <td>4</td>\n",
              "      <td>1</td>\n",
              "      <td>1</td>\n",
              "      <td>1</td>\n",
              "      <td>18</td>\n",
              "      <td>3</td>\n",
              "      <td>3</td>\n",
              "      <td>1</td>\n",
              "      <td>6</td>\n",
              "      <td>7</td>\n",
              "      <td>7</td>\n",
              "      <td>1880</td>\n",
              "      <td>2003</td>\n",
              "      <td>5</td>\n",
              "      <td>2</td>\n",
              "      <td>12</td>\n",
              "      <td>13</td>\n",
              "      <td>3</td>\n",
              "      <td>0.0</td>\n",
              "      <td>3</td>\n",
              "      <td>5</td>\n",
              "      <td>5</td>\n",
              "      <td>4</td>\n",
              "      <td>1</td>\n",
              "      <td>4</td>\n",
              "      <td>6</td>\n",
              "      <td>0</td>\n",
              "      <td>6</td>\n",
              "      <td>0</td>\n",
              "      <td>1240</td>\n",
              "      <td>1240</td>\n",
              "      <td>3</td>\n",
              "      <td>...</td>\n",
              "      <td>1</td>\n",
              "      <td>5</td>\n",
              "      <td>1320</td>\n",
              "      <td>1320</td>\n",
              "      <td>0</td>\n",
              "      <td>2640</td>\n",
              "      <td>0</td>\n",
              "      <td>0</td>\n",
              "      <td>1</td>\n",
              "      <td>1</td>\n",
              "      <td>4</td>\n",
              "      <td>1</td>\n",
              "      <td>3</td>\n",
              "      <td>8</td>\n",
              "      <td>7</td>\n",
              "      <td>1</td>\n",
              "      <td>3</td>\n",
              "      <td>6</td>\n",
              "      <td>1950.0</td>\n",
              "      <td>3</td>\n",
              "      <td>4</td>\n",
              "      <td>864</td>\n",
              "      <td>5</td>\n",
              "      <td>5</td>\n",
              "      <td>1</td>\n",
              "      <td>181</td>\n",
              "      <td>0</td>\n",
              "      <td>386</td>\n",
              "      <td>0</td>\n",
              "      <td>0</td>\n",
              "      <td>0</td>\n",
              "      <td>0</td>\n",
              "      <td>0</td>\n",
              "      <td>0</td>\n",
              "      <td>0</td>\n",
              "      <td>5</td>\n",
              "      <td>2009</td>\n",
              "      <td>9</td>\n",
              "      <td>5</td>\n",
              "      <td>265979</td>\n",
              "    </tr>\n",
              "    <tr>\n",
              "      <th>3</th>\n",
              "      <td>305</td>\n",
              "      <td>75</td>\n",
              "      <td>5</td>\n",
              "      <td>87.0</td>\n",
              "      <td>18386</td>\n",
              "      <td>2</td>\n",
              "      <td>0</td>\n",
              "      <td>4</td>\n",
              "      <td>4</td>\n",
              "      <td>1</td>\n",
              "      <td>5</td>\n",
              "      <td>1</td>\n",
              "      <td>18</td>\n",
              "      <td>3</td>\n",
              "      <td>3</td>\n",
              "      <td>1</td>\n",
              "      <td>4</td>\n",
              "      <td>7</td>\n",
              "      <td>9</td>\n",
              "      <td>1880</td>\n",
              "      <td>2002</td>\n",
              "      <td>2</td>\n",
              "      <td>2</td>\n",
              "      <td>6</td>\n",
              "      <td>6</td>\n",
              "      <td>3</td>\n",
              "      <td>0.0</td>\n",
              "      <td>4</td>\n",
              "      <td>5</td>\n",
              "      <td>1</td>\n",
              "      <td>4</td>\n",
              "      <td>4</td>\n",
              "      <td>4</td>\n",
              "      <td>6</td>\n",
              "      <td>0</td>\n",
              "      <td>6</td>\n",
              "      <td>0</td>\n",
              "      <td>1470</td>\n",
              "      <td>1470</td>\n",
              "      <td>2</td>\n",
              "      <td>...</td>\n",
              "      <td>2</td>\n",
              "      <td>5</td>\n",
              "      <td>1675</td>\n",
              "      <td>1818</td>\n",
              "      <td>0</td>\n",
              "      <td>3493</td>\n",
              "      <td>0</td>\n",
              "      <td>0</td>\n",
              "      <td>3</td>\n",
              "      <td>0</td>\n",
              "      <td>3</td>\n",
              "      <td>1</td>\n",
              "      <td>3</td>\n",
              "      <td>10</td>\n",
              "      <td>7</td>\n",
              "      <td>1</td>\n",
              "      <td>1</td>\n",
              "      <td>2</td>\n",
              "      <td>2003.0</td>\n",
              "      <td>3</td>\n",
              "      <td>3</td>\n",
              "      <td>870</td>\n",
              "      <td>5</td>\n",
              "      <td>5</td>\n",
              "      <td>3</td>\n",
              "      <td>302</td>\n",
              "      <td>0</td>\n",
              "      <td>0</td>\n",
              "      <td>0</td>\n",
              "      <td>0</td>\n",
              "      <td>0</td>\n",
              "      <td>0</td>\n",
              "      <td>0</td>\n",
              "      <td>0</td>\n",
              "      <td>0</td>\n",
              "      <td>5</td>\n",
              "      <td>2008</td>\n",
              "      <td>9</td>\n",
              "      <td>5</td>\n",
              "      <td>295000</td>\n",
              "    </tr>\n",
              "    <tr>\n",
              "      <th>4</th>\n",
              "      <td>1133</td>\n",
              "      <td>70</td>\n",
              "      <td>5</td>\n",
              "      <td>90.0</td>\n",
              "      <td>9900</td>\n",
              "      <td>2</td>\n",
              "      <td>0</td>\n",
              "      <td>4</td>\n",
              "      <td>4</td>\n",
              "      <td>1</td>\n",
              "      <td>5</td>\n",
              "      <td>1</td>\n",
              "      <td>18</td>\n",
              "      <td>3</td>\n",
              "      <td>3</td>\n",
              "      <td>1</td>\n",
              "      <td>6</td>\n",
              "      <td>6</td>\n",
              "      <td>4</td>\n",
              "      <td>1880</td>\n",
              "      <td>1950</td>\n",
              "      <td>2</td>\n",
              "      <td>2</td>\n",
              "      <td>14</td>\n",
              "      <td>15</td>\n",
              "      <td>3</td>\n",
              "      <td>0.0</td>\n",
              "      <td>4</td>\n",
              "      <td>5</td>\n",
              "      <td>1</td>\n",
              "      <td>4</td>\n",
              "      <td>4</td>\n",
              "      <td>3</td>\n",
              "      <td>6</td>\n",
              "      <td>0</td>\n",
              "      <td>6</td>\n",
              "      <td>0</td>\n",
              "      <td>1008</td>\n",
              "      <td>1008</td>\n",
              "      <td>3</td>\n",
              "      <td>...</td>\n",
              "      <td>2</td>\n",
              "      <td>5</td>\n",
              "      <td>1178</td>\n",
              "      <td>1032</td>\n",
              "      <td>0</td>\n",
              "      <td>2210</td>\n",
              "      <td>0</td>\n",
              "      <td>0</td>\n",
              "      <td>2</td>\n",
              "      <td>0</td>\n",
              "      <td>5</td>\n",
              "      <td>1</td>\n",
              "      <td>2</td>\n",
              "      <td>8</td>\n",
              "      <td>7</td>\n",
              "      <td>0</td>\n",
              "      <td>0</td>\n",
              "      <td>6</td>\n",
              "      <td>1930.0</td>\n",
              "      <td>3</td>\n",
              "      <td>1</td>\n",
              "      <td>205</td>\n",
              "      <td>2</td>\n",
              "      <td>5</td>\n",
              "      <td>1</td>\n",
              "      <td>0</td>\n",
              "      <td>48</td>\n",
              "      <td>0</td>\n",
              "      <td>0</td>\n",
              "      <td>0</td>\n",
              "      <td>0</td>\n",
              "      <td>0</td>\n",
              "      <td>0</td>\n",
              "      <td>0</td>\n",
              "      <td>0</td>\n",
              "      <td>5</td>\n",
              "      <td>2007</td>\n",
              "      <td>9</td>\n",
              "      <td>5</td>\n",
              "      <td>117500</td>\n",
              "    </tr>\n",
              "  </tbody>\n",
              "</table>\n",
              "<p>5 rows × 81 columns</p>\n",
              "</div>"
            ],
            "text/plain": [
              "     Id  MSSubClass  MSZoning  ...  SaleType  SaleCondition  SalePrice\n",
              "0  1350          70         5  ...         9              5     122000\n",
              "1  1138          50         4  ...         9              5      94000\n",
              "2   748          70         5  ...         9              5     265979\n",
              "3   305          75         5  ...         9              5     295000\n",
              "4  1133          70         5  ...         9              5     117500\n",
              "\n",
              "[5 rows x 81 columns]"
            ]
          },
          "metadata": {
            "tags": []
          },
          "execution_count": 3
        }
      ]
    },
    {
      "cell_type": "markdown",
      "metadata": {
        "id": "ZQES7vj0_180",
        "colab_type": "text"
      },
      "source": [
        "# Evaluating results in different MODELS"
      ]
    },
    {
      "cell_type": "code",
      "metadata": {
        "id": "8JpWIiILBuKa",
        "colab_type": "code",
        "colab": {}
      },
      "source": [
        "## Splitting the data into train and test\n",
        "np.random.seed(100)\n",
        "from sklearn.model_selection import train_test_split\n",
        "X=train_preprocessed.drop(\"SalePrice\",axis=1)\n",
        "y=train_preprocessed[\"SalePrice\"]\n",
        "X_train,X_valid,y_train,y_valid=train_test_split(X,\n",
        "                                                 y,\n",
        "                                                 test_size=0.2,\n",
        "                                                 shuffle=True)"
      ],
      "execution_count": 7,
      "outputs": []
    },
    {
      "cell_type": "code",
      "metadata": {
        "id": "MEo41_CfBuW5",
        "colab_type": "code",
        "colab": {}
      },
      "source": [
        "## Import the models\n",
        "## IMporting the models for regression to experiment on those \n",
        "from sklearn.linear_model import LinearRegression,Lasso,Ridge\n",
        "from sklearn.ensemble import RandomForestRegressor,GradientBoostingRegressor,AdaBoostRegressor\n",
        "from sklearn.svm import SVR\n",
        "from sklearn.tree import DecisionTreeRegressor"
      ],
      "execution_count": 8,
      "outputs": []
    },
    {
      "cell_type": "code",
      "metadata": {
        "id": "T0xb-emIBu3P",
        "colab_type": "code",
        "colab": {}
      },
      "source": [
        "## Making a dictionary of models\n",
        "models={\"LinearRegression\":LinearRegression(),\n",
        "       \"Lasso\":Lasso(),\n",
        "       \"Ridge\":Ridge(),\n",
        "       \"RandomForestRegression\":RandomForestRegressor(),\n",
        "       \"Gradient\":GradientBoostingRegressor(),\n",
        "       \"AdaBoostRegressor\":AdaBoostRegressor(),\n",
        "       \"SVR\":SVR(),\n",
        "       \"DecisionTreeRegressor\":DecisionTreeRegressor()}"
      ],
      "execution_count": 9,
      "outputs": []
    },
    {
      "cell_type": "code",
      "metadata": {
        "id": "4y59s2G6Bu-u",
        "colab_type": "code",
        "colab": {}
      },
      "source": [
        "## Making a function to fit and score on the models\n",
        "from sklearn.metrics import mean_absolute_error\n",
        "def fit_and_score(models,X_train,y_train,X_valid,y_valid):\n",
        "    results={}\n",
        "    for model_name,model in models.items():\n",
        "        model.fit(X_train,y_train)\n",
        "        results[model_name+\" accuracy\"]=model.score(X_valid,y_valid)\n",
        "        y_preds=model.predict(X_valid)\n",
        "        results[model_name+\" mean_absolute_error\"]=mean_absolute_error(y_valid,y_preds)\n",
        "\n",
        "    return results\n",
        "        "
      ],
      "execution_count": 12,
      "outputs": []
    },
    {
      "cell_type": "code",
      "metadata": {
        "id": "73F-XR2-BvEq",
        "colab_type": "code",
        "colab": {
          "base_uri": "https://localhost:8080/",
          "height": 52
        },
        "outputId": "1fe3b1f1-5337-4c98-fed7-c1b0c63ca896"
      },
      "source": [
        "## Let's evaluate the function\n",
        "%%time\n",
        "result_1=fit_and_score(models,X_train,y_train,X_valid,y_valid)\n",
        "result_1"
      ],
      "execution_count": 15,
      "outputs": [
        {
          "output_type": "stream",
          "text": [
            "CPU times: user 2.98 s, sys: 139 ms, total: 3.12 s\n",
            "Wall time: 2.97 s\n"
          ],
          "name": "stdout"
        }
      ]
    },
    {
      "cell_type": "code",
      "metadata": {
        "id": "GoBhg2pTBvJ4",
        "colab_type": "code",
        "colab": {
          "base_uri": "https://localhost:8080/",
          "height": 301
        },
        "outputId": "4c794e80-0526-46e9-bec3-7ca7560079ba"
      },
      "source": [
        "result_1"
      ],
      "execution_count": 16,
      "outputs": [
        {
          "output_type": "execute_result",
          "data": {
            "text/plain": [
              "{'AdaBoostRegressor accuracy': 0.8288756579802785,\n",
              " 'AdaBoostRegressor mean_absolute_error': 22086.153119072078,\n",
              " 'DecisionTreeRegressor accuracy': 0.7467040846726105,\n",
              " 'DecisionTreeRegressor mean_absolute_error': 24298.87671232877,\n",
              " 'Gradient accuracy': 0.8819786831117113,\n",
              " 'Gradient mean_absolute_error': 16262.283475624627,\n",
              " 'Lasso accuracy': 0.7963561438273482,\n",
              " 'Lasso mean_absolute_error': 19303.689239995423,\n",
              " 'LinearRegression accuracy': 0.7961041368744275,\n",
              " 'LinearRegression mean_absolute_error': 19309.667603418857,\n",
              " 'RandomForestRegression accuracy': 0.8800196812918526,\n",
              " 'RandomForestRegression mean_absolute_error': 17042.85609589041,\n",
              " 'Ridge accuracy': 0.8270878164693442,\n",
              " 'Ridge mean_absolute_error': 19069.553170312112,\n",
              " 'SVR accuracy': -0.058692609181610685,\n",
              " 'SVR mean_absolute_error': 53341.10468022511}"
            ]
          },
          "metadata": {
            "tags": []
          },
          "execution_count": 16
        }
      ]
    },
    {
      "cell_type": "markdown",
      "metadata": {
        "id": "h2CbPXuPE1nB",
        "colab_type": "text"
      },
      "source": [
        "#### NOTE: \n",
        "**SVR is discarded due to low metric obtained and is very hard to improve**"
      ]
    },
    {
      "cell_type": "markdown",
      "metadata": {
        "id": "xJ1mqB6vC936",
        "colab_type": "text"
      },
      "source": [
        "## Hyperparameter tuning on different models using GridSearchCV"
      ]
    },
    {
      "cell_type": "markdown",
      "metadata": {
        "id": "ZmCaHfgzDsu9",
        "colab_type": "text"
      },
      "source": [
        "## 1.RandomForestRegressor"
      ]
    },
    {
      "cell_type": "code",
      "metadata": {
        "id": "Dj_Rk-dsDs8K",
        "colab_type": "code",
        "colab": {}
      },
      "source": [
        "from sklearn.model_selection import GridSearchCV\n"
      ],
      "execution_count": 17,
      "outputs": []
    },
    {
      "cell_type": "code",
      "metadata": {
        "id": "9lOxDpdjDtIO",
        "colab_type": "code",
        "colab": {}
      },
      "source": [
        "## The parameter's values have been set using thorough research\n",
        "np.random.seed(100)\n",
        "randomforest_grid={\"criterion\":[\"mae\"],\n",
        "           \"n_estimators\":[100,150,200],\n",
        "           \"min_samples_split\":[2,4],\n",
        "           \"max_features\":[None,\"sqrt\"]}\n",
        "RandomForest_grid=GridSearchCV(RandomForestRegressor(),\n",
        "                               param_grid=randomforest_grid,\n",
        "                               cv=5,\n",
        "                               verbose=True)"
      ],
      "execution_count": 20,
      "outputs": []
    },
    {
      "cell_type": "code",
      "metadata": {
        "id": "Gj1oeahEFxIR",
        "colab_type": "code",
        "colab": {}
      },
      "source": [
        "## Create a function to check metrics of each model\n",
        "def check_metrics(model):\n",
        "    model.fit(X_train,y_train)\n",
        "    print(model.best_params_)\n",
        "    print(\"accuracy\",model.score(X_valid,y_valid))\n",
        "    print(\"mae\",mean_absolute_error(y_valid,model.predict(X_valid)))"
      ],
      "execution_count": 21,
      "outputs": []
    },
    {
      "cell_type": "code",
      "metadata": {
        "id": "_GRjHR2DDtRY",
        "colab_type": "code",
        "colab": {
          "base_uri": "https://localhost:8080/",
          "height": 123
        },
        "outputId": "048b46e3-9bc0-4097-a223-b32b0a994531"
      },
      "source": [
        "## Fitting on the data\n",
        "check_metrics(RandomForest_grid)\n"
      ],
      "execution_count": 22,
      "outputs": [
        {
          "output_type": "stream",
          "text": [
            "Fitting 5 folds for each of 12 candidates, totalling 60 fits\n"
          ],
          "name": "stdout"
        },
        {
          "output_type": "stream",
          "text": [
            "[Parallel(n_jobs=1)]: Using backend SequentialBackend with 1 concurrent workers.\n",
            "[Parallel(n_jobs=1)]: Done  60 out of  60 | elapsed:  9.8min finished\n"
          ],
          "name": "stderr"
        },
        {
          "output_type": "stream",
          "text": [
            "{'criterion': 'mae', 'max_features': 'sqrt', 'min_samples_split': 2, 'n_estimators': 100}\n",
            "accuracy 0.8660760465434928\n",
            "mae 17015.360273972605\n"
          ],
          "name": "stdout"
        }
      ]
    },
    {
      "cell_type": "markdown",
      "metadata": {
        "id": "PFYaX7aEDtac",
        "colab_type": "text"
      },
      "source": [
        "**NOte:It shows that mean_absolute_error has improved from 17042 to 17015 thought the accuracy has decreased.**"
      ]
    },
    {
      "cell_type": "code",
      "metadata": {
        "id": "SwmS3UMqDtkC",
        "colab_type": "code",
        "colab": {}
      },
      "source": [
        ""
      ],
      "execution_count": null,
      "outputs": []
    },
    {
      "cell_type": "markdown",
      "metadata": {
        "id": "xmCDHrZZDtuJ",
        "colab_type": "text"
      },
      "source": [
        "## 2.GradientBoostingRegressor"
      ]
    },
    {
      "cell_type": "code",
      "metadata": {
        "id": "5p86_qjVHCft",
        "colab_type": "code",
        "colab": {}
      },
      "source": [
        "## Making a gradientboosting hyperparameters grid \n",
        "np.random.seed(100)\n",
        "gradientboost_grid={\"criterion\":[\"mae\"],\n",
        "           \"n_estimators\":[100,150,200],\n",
        "           \"min_samples_split\":[2,4],\n",
        "           \"max_features\":[None,\"sqrt\"]}\n",
        "Gradient_grid=GridSearchCV(RandomForestRegressor(),\n",
        "                               param_grid=gradientboost_grid,\n",
        "                               cv=5,\n",
        "                               verbose=True)"
      ],
      "execution_count": 24,
      "outputs": []
    },
    {
      "cell_type": "code",
      "metadata": {
        "id": "8tAmVislHCu1",
        "colab_type": "code",
        "colab": {
          "base_uri": "https://localhost:8080/",
          "height": 123
        },
        "outputId": "1f2cacfb-08ff-4580-fb93-2395e845968c"
      },
      "source": [
        "check_metrics(Gradient_grid)"
      ],
      "execution_count": 25,
      "outputs": [
        {
          "output_type": "stream",
          "text": [
            "Fitting 5 folds for each of 12 candidates, totalling 60 fits\n"
          ],
          "name": "stdout"
        },
        {
          "output_type": "stream",
          "text": [
            "[Parallel(n_jobs=1)]: Using backend SequentialBackend with 1 concurrent workers.\n",
            "[Parallel(n_jobs=1)]: Done  60 out of  60 | elapsed:  9.7min finished\n"
          ],
          "name": "stderr"
        },
        {
          "output_type": "stream",
          "text": [
            "{'criterion': 'mae', 'max_features': 'sqrt', 'min_samples_split': 2, 'n_estimators': 100}\n",
            "accuracy 0.8660760465434928\n",
            "mae 17015.360273972605\n"
          ],
          "name": "stdout"
        }
      ]
    },
    {
      "cell_type": "code",
      "metadata": {
        "id": "9x_bKPvnVh2-",
        "colab_type": "code",
        "colab": {}
      },
      "source": [
        "def check_metrics_new(model):\n",
        "    model.fit(X_train,y_train)\n",
        "    print(\"accuracy\",model.score(X_valid,y_valid))\n",
        "    print(\"mae\",mean_absolute_error(y_valid,model.predict(X_valid)))"
      ],
      "execution_count": 40,
      "outputs": []
    },
    {
      "cell_type": "code",
      "metadata": {
        "id": "R4vIAGZBVcnZ",
        "colab_type": "code",
        "colab": {
          "base_uri": "https://localhost:8080/",
          "height": 550
        },
        "outputId": "b2760670-24c5-4cfb-9ac9-d668ecd74ab6"
      },
      "source": [
        "for i in range(590,650,10):\n",
        "  print(f\"{i} estimators\")\n",
        "  check_metrics_new(GradientBoostingRegressor(n_estimators=i))\n",
        "  print(\"\\n\")"
      ],
      "execution_count": 44,
      "outputs": [
        {
          "output_type": "stream",
          "text": [
            "590 estimators\n",
            "accuracy 0.8852450493791971\n",
            "mae 15633.017280666898\n",
            "\n",
            "\n",
            "600 estimators\n",
            "accuracy 0.8827160527610369\n",
            "mae 15800.072721166362\n",
            "\n",
            "\n",
            "610 estimators\n",
            "accuracy 0.8864951020326327\n",
            "mae 15691.116060834514\n",
            "\n",
            "\n",
            "620 estimators\n",
            "accuracy 0.8882523848405276\n",
            "mae 15621.247033954407\n",
            "\n",
            "\n",
            "630 estimators\n",
            "accuracy 0.8853231644387081\n",
            "mae 15701.377759707291\n",
            "\n",
            "\n",
            "640 estimators\n",
            "accuracy 0.885152815048356\n",
            "mae 15679.425202089096\n",
            "\n",
            "\n"
          ],
          "name": "stdout"
        }
      ]
    },
    {
      "cell_type": "markdown",
      "metadata": {
        "id": "cHVIjVtBHC4z",
        "colab_type": "text"
      },
      "source": [
        "**NOTE:For gradientboosting regressor ,the model with hypertuning n_estimators is better and 260 found to be the best**"
      ]
    },
    {
      "cell_type": "markdown",
      "metadata": {
        "id": "YYZO__wnJhqM",
        "colab_type": "text"
      },
      "source": [
        "## 3.DecisionTreeRegressor"
      ]
    },
    {
      "cell_type": "code",
      "metadata": {
        "id": "zhIK1DY4HDAY",
        "colab_type": "code",
        "colab": {}
      },
      "source": [
        "\n",
        "np.random.seed(100)\n",
        "decision_tree_grid={\"criterion\":['mae'],\n",
        "                    \"min_samples_split\":[2,4,6,8,10],\n",
        "                    \"max_features\":[\"auto\",\"sqrt\"],\n",
        "\n",
        "                    }\n",
        "Decision_grid=GridSearchCV(DecisionTreeRegressor(),\n",
        "                                param_grid=decision_tree_grid,\n",
        "                                cv=5,\n",
        "                                verbose=5)"
      ],
      "execution_count": 26,
      "outputs": []
    },
    {
      "cell_type": "code",
      "metadata": {
        "id": "pHYvRXfDJgAy",
        "colab_type": "code",
        "colab": {
          "base_uri": "https://localhost:8080/",
          "height": 1000
        },
        "outputId": "78857259-8414-4091-ccf2-0ffc1eafeff8"
      },
      "source": [
        "check_metrics(Decision_grid)"
      ],
      "execution_count": 27,
      "outputs": [
        {
          "output_type": "stream",
          "text": [
            "Fitting 5 folds for each of 10 candidates, totalling 50 fits\n",
            "[CV] criterion=mae, max_features=auto, min_samples_split=2 ...........\n"
          ],
          "name": "stdout"
        },
        {
          "output_type": "stream",
          "text": [
            "[Parallel(n_jobs=1)]: Using backend SequentialBackend with 1 concurrent workers.\n"
          ],
          "name": "stderr"
        },
        {
          "output_type": "stream",
          "text": [
            "[CV]  criterion=mae, max_features=auto, min_samples_split=2, score=0.628, total=   0.2s\n",
            "[CV] criterion=mae, max_features=auto, min_samples_split=2 ...........\n"
          ],
          "name": "stdout"
        },
        {
          "output_type": "stream",
          "text": [
            "[Parallel(n_jobs=1)]: Done   1 out of   1 | elapsed:    0.2s remaining:    0.0s\n"
          ],
          "name": "stderr"
        },
        {
          "output_type": "stream",
          "text": [
            "[CV]  criterion=mae, max_features=auto, min_samples_split=2, score=0.693, total=   0.2s\n",
            "[CV] criterion=mae, max_features=auto, min_samples_split=2 ...........\n"
          ],
          "name": "stdout"
        },
        {
          "output_type": "stream",
          "text": [
            "[Parallel(n_jobs=1)]: Done   2 out of   2 | elapsed:    0.4s remaining:    0.0s\n"
          ],
          "name": "stderr"
        },
        {
          "output_type": "stream",
          "text": [
            "[CV]  criterion=mae, max_features=auto, min_samples_split=2, score=0.801, total=   0.2s\n",
            "[CV] criterion=mae, max_features=auto, min_samples_split=2 ...........\n"
          ],
          "name": "stdout"
        },
        {
          "output_type": "stream",
          "text": [
            "[Parallel(n_jobs=1)]: Done   3 out of   3 | elapsed:    0.7s remaining:    0.0s\n"
          ],
          "name": "stderr"
        },
        {
          "output_type": "stream",
          "text": [
            "[CV]  criterion=mae, max_features=auto, min_samples_split=2, score=0.524, total=   0.2s\n",
            "[CV] criterion=mae, max_features=auto, min_samples_split=2 ...........\n"
          ],
          "name": "stdout"
        },
        {
          "output_type": "stream",
          "text": [
            "[Parallel(n_jobs=1)]: Done   4 out of   4 | elapsed:    0.9s remaining:    0.0s\n"
          ],
          "name": "stderr"
        },
        {
          "output_type": "stream",
          "text": [
            "[CV]  criterion=mae, max_features=auto, min_samples_split=2, score=0.777, total=   0.2s\n",
            "[CV] criterion=mae, max_features=auto, min_samples_split=4 ...........\n",
            "[CV]  criterion=mae, max_features=auto, min_samples_split=4, score=0.620, total=   0.2s\n",
            "[CV] criterion=mae, max_features=auto, min_samples_split=4 ...........\n",
            "[CV]  criterion=mae, max_features=auto, min_samples_split=4, score=0.707, total=   0.2s\n",
            "[CV] criterion=mae, max_features=auto, min_samples_split=4 ...........\n",
            "[CV]  criterion=mae, max_features=auto, min_samples_split=4, score=0.692, total=   0.2s\n",
            "[CV] criterion=mae, max_features=auto, min_samples_split=4 ...........\n",
            "[CV]  criterion=mae, max_features=auto, min_samples_split=4, score=0.530, total=   0.2s\n",
            "[CV] criterion=mae, max_features=auto, min_samples_split=4 ...........\n",
            "[CV]  criterion=mae, max_features=auto, min_samples_split=4, score=0.742, total=   0.2s\n",
            "[CV] criterion=mae, max_features=auto, min_samples_split=6 ...........\n",
            "[CV]  criterion=mae, max_features=auto, min_samples_split=6, score=0.710, total=   0.2s\n",
            "[CV] criterion=mae, max_features=auto, min_samples_split=6 ...........\n",
            "[CV]  criterion=mae, max_features=auto, min_samples_split=6, score=0.705, total=   0.2s\n",
            "[CV] criterion=mae, max_features=auto, min_samples_split=6 ...........\n",
            "[CV]  criterion=mae, max_features=auto, min_samples_split=6, score=0.792, total=   0.2s\n",
            "[CV] criterion=mae, max_features=auto, min_samples_split=6 ...........\n",
            "[CV]  criterion=mae, max_features=auto, min_samples_split=6, score=0.574, total=   0.2s\n",
            "[CV] criterion=mae, max_features=auto, min_samples_split=6 ...........\n",
            "[CV]  criterion=mae, max_features=auto, min_samples_split=6, score=0.731, total=   0.2s\n",
            "[CV] criterion=mae, max_features=auto, min_samples_split=8 ...........\n",
            "[CV]  criterion=mae, max_features=auto, min_samples_split=8, score=0.741, total=   0.2s\n",
            "[CV] criterion=mae, max_features=auto, min_samples_split=8 ...........\n",
            "[CV]  criterion=mae, max_features=auto, min_samples_split=8, score=0.718, total=   0.2s\n",
            "[CV] criterion=mae, max_features=auto, min_samples_split=8 ...........\n",
            "[CV]  criterion=mae, max_features=auto, min_samples_split=8, score=0.721, total=   0.2s\n",
            "[CV] criterion=mae, max_features=auto, min_samples_split=8 ...........\n",
            "[CV]  criterion=mae, max_features=auto, min_samples_split=8, score=0.582, total=   0.2s\n",
            "[CV] criterion=mae, max_features=auto, min_samples_split=8 ...........\n",
            "[CV]  criterion=mae, max_features=auto, min_samples_split=8, score=0.752, total=   0.2s\n",
            "[CV] criterion=mae, max_features=auto, min_samples_split=10 ..........\n",
            "[CV]  criterion=mae, max_features=auto, min_samples_split=10, score=0.744, total=   0.2s\n",
            "[CV] criterion=mae, max_features=auto, min_samples_split=10 ..........\n",
            "[CV]  criterion=mae, max_features=auto, min_samples_split=10, score=0.720, total=   0.2s\n",
            "[CV] criterion=mae, max_features=auto, min_samples_split=10 ..........\n",
            "[CV]  criterion=mae, max_features=auto, min_samples_split=10, score=0.760, total=   0.2s\n",
            "[CV] criterion=mae, max_features=auto, min_samples_split=10 ..........\n",
            "[CV]  criterion=mae, max_features=auto, min_samples_split=10, score=0.594, total=   0.2s\n",
            "[CV] criterion=mae, max_features=auto, min_samples_split=10 ..........\n",
            "[CV]  criterion=mae, max_features=auto, min_samples_split=10, score=0.752, total=   0.2s\n",
            "[CV] criterion=mae, max_features=sqrt, min_samples_split=2 ...........\n",
            "[CV]  criterion=mae, max_features=sqrt, min_samples_split=2, score=0.359, total=   0.0s\n",
            "[CV] criterion=mae, max_features=sqrt, min_samples_split=2 ...........\n",
            "[CV]  criterion=mae, max_features=sqrt, min_samples_split=2, score=0.618, total=   0.0s\n",
            "[CV] criterion=mae, max_features=sqrt, min_samples_split=2 ...........\n",
            "[CV]  criterion=mae, max_features=sqrt, min_samples_split=2, score=0.588, total=   0.0s\n",
            "[CV] criterion=mae, max_features=sqrt, min_samples_split=2 ...........\n",
            "[CV]  criterion=mae, max_features=sqrt, min_samples_split=2, score=0.623, total=   0.0s\n",
            "[CV] criterion=mae, max_features=sqrt, min_samples_split=2 ...........\n",
            "[CV]  criterion=mae, max_features=sqrt, min_samples_split=2, score=0.661, total=   0.0s\n",
            "[CV] criterion=mae, max_features=sqrt, min_samples_split=4 ...........\n",
            "[CV]  criterion=mae, max_features=sqrt, min_samples_split=4, score=0.691, total=   0.0s\n",
            "[CV] criterion=mae, max_features=sqrt, min_samples_split=4 ...........\n",
            "[CV]  criterion=mae, max_features=sqrt, min_samples_split=4, score=0.580, total=   0.0s\n",
            "[CV] criterion=mae, max_features=sqrt, min_samples_split=4 ...........\n",
            "[CV]  criterion=mae, max_features=sqrt, min_samples_split=4, score=0.703, total=   0.0s\n",
            "[CV] criterion=mae, max_features=sqrt, min_samples_split=4 ...........\n",
            "[CV]  criterion=mae, max_features=sqrt, min_samples_split=4, score=0.515, total=   0.0s\n",
            "[CV] criterion=mae, max_features=sqrt, min_samples_split=4 ...........\n",
            "[CV]  criterion=mae, max_features=sqrt, min_samples_split=4, score=0.708, total=   0.0s\n",
            "[CV] criterion=mae, max_features=sqrt, min_samples_split=6 ...........\n",
            "[CV]  criterion=mae, max_features=sqrt, min_samples_split=6, score=0.513, total=   0.0s\n",
            "[CV] criterion=mae, max_features=sqrt, min_samples_split=6 ...........\n",
            "[CV]  criterion=mae, max_features=sqrt, min_samples_split=6, score=0.566, total=   0.0s\n",
            "[CV] criterion=mae, max_features=sqrt, min_samples_split=6 ...........\n",
            "[CV]  criterion=mae, max_features=sqrt, min_samples_split=6, score=0.762, total=   0.0s\n",
            "[CV] criterion=mae, max_features=sqrt, min_samples_split=6 ...........\n",
            "[CV]  criterion=mae, max_features=sqrt, min_samples_split=6, score=0.594, total=   0.0s\n",
            "[CV] criterion=mae, max_features=sqrt, min_samples_split=6 ...........\n",
            "[CV]  criterion=mae, max_features=sqrt, min_samples_split=6, score=0.600, total=   0.0s\n",
            "[CV] criterion=mae, max_features=sqrt, min_samples_split=8 ...........\n",
            "[CV]  criterion=mae, max_features=sqrt, min_samples_split=8, score=0.610, total=   0.0s\n",
            "[CV] criterion=mae, max_features=sqrt, min_samples_split=8 ...........\n",
            "[CV]  criterion=mae, max_features=sqrt, min_samples_split=8, score=0.644, total=   0.0s\n",
            "[CV] criterion=mae, max_features=sqrt, min_samples_split=8 ...........\n",
            "[CV]  criterion=mae, max_features=sqrt, min_samples_split=8, score=0.657, total=   0.0s\n",
            "[CV] criterion=mae, max_features=sqrt, min_samples_split=8 ...........\n",
            "[CV]  criterion=mae, max_features=sqrt, min_samples_split=8, score=0.680, total=   0.0s\n",
            "[CV] criterion=mae, max_features=sqrt, min_samples_split=8 ...........\n",
            "[CV]  criterion=mae, max_features=sqrt, min_samples_split=8, score=0.652, total=   0.0s\n",
            "[CV] criterion=mae, max_features=sqrt, min_samples_split=10 ..........\n",
            "[CV]  criterion=mae, max_features=sqrt, min_samples_split=10, score=0.621, total=   0.0s\n",
            "[CV] criterion=mae, max_features=sqrt, min_samples_split=10 ..........\n",
            "[CV]  criterion=mae, max_features=sqrt, min_samples_split=10, score=0.487, total=   0.0s\n",
            "[CV] criterion=mae, max_features=sqrt, min_samples_split=10 ..........\n",
            "[CV]  criterion=mae, max_features=sqrt, min_samples_split=10, score=0.743, total=   0.0s\n",
            "[CV] criterion=mae, max_features=sqrt, min_samples_split=10 ..........\n",
            "[CV]  criterion=mae, max_features=sqrt, min_samples_split=10, score=0.691, total=   0.0s\n",
            "[CV] criterion=mae, max_features=sqrt, min_samples_split=10 ..........\n",
            "[CV]  criterion=mae, max_features=sqrt, min_samples_split=10, score=0.699, total=   0.0s\n"
          ],
          "name": "stdout"
        },
        {
          "output_type": "stream",
          "text": [
            "[Parallel(n_jobs=1)]: Done  50 out of  50 | elapsed:    6.0s finished\n"
          ],
          "name": "stderr"
        },
        {
          "output_type": "stream",
          "text": [
            "{'criterion': 'mae', 'max_features': 'auto', 'min_samples_split': 10}\n",
            "accuracy 0.7392098140402124\n",
            "mae 24701.532534246577\n"
          ],
          "name": "stdout"
        }
      ]
    },
    {
      "cell_type": "markdown",
      "metadata": {
        "id": "usrJXQEAJgJi",
        "colab_type": "text"
      },
      "source": [
        "**NOTE:For decision tree regressor ,the model without hypertuning was better**"
      ]
    },
    {
      "cell_type": "markdown",
      "metadata": {
        "id": "O8I3hW7vNjoe",
        "colab_type": "text"
      },
      "source": [
        "**FINAL NOTE:WITH ALL THOSE TUNING WE FOUND OUT THAT GradientBoostingRegressor IS THE BEST FOR THIS PROBLEM.**"
      ]
    },
    {
      "cell_type": "markdown",
      "metadata": {
        "id": "zk4wiQ5YJgR-",
        "colab_type": "text"
      },
      "source": [
        ""
      ]
    },
    {
      "cell_type": "markdown",
      "metadata": {
        "id": "DisaoXeRNh9G",
        "colab_type": "text"
      },
      "source": [
        "# Train the model on full data "
      ]
    },
    {
      "cell_type": "code",
      "metadata": {
        "id": "Y4wUQauUXP0c",
        "colab_type": "code",
        "colab": {}
      },
      "source": [
        "##Splitting the data\n",
        "X=train_preprocessed.drop(\"SalePrice\",axis=1)\n",
        "y=train_preprocessed[\"SalePrice\"]"
      ],
      "execution_count": 46,
      "outputs": []
    },
    {
      "cell_type": "code",
      "metadata": {
        "id": "eRg6uTERXSjA",
        "colab_type": "code",
        "colab": {}
      },
      "source": [
        "model=GradientBoostingRegressor(n_estimators=260).fit(X,y)"
      ],
      "execution_count": 47,
      "outputs": []
    },
    {
      "cell_type": "code",
      "metadata": {
        "id": "itdp6BdRXqJV",
        "colab_type": "code",
        "colab": {}
      },
      "source": [
        "## Exporting the model\n",
        "import pickle\n",
        "pickle.dump(model,open(\"house_regression_model.pkl\",\"wb\"))"
      ],
      "execution_count": 49,
      "outputs": []
    },
    {
      "cell_type": "markdown",
      "metadata": {
        "id": "CcDoqnPqXu_d",
        "colab_type": "text"
      },
      "source": [
        "## Since while importing the model in pkl format in jupyter, it showed warning,we predicted on the test data here  by importing preprocessed test data**"
      ]
    },
    {
      "cell_type": "code",
      "metadata": {
        "id": "wolWtmwWcGyD",
        "colab_type": "code",
        "colab": {
          "base_uri": "https://localhost:8080/",
          "height": 217
        },
        "outputId": "c71c0edc-c50b-451d-d2e3-b1aa24acee88"
      },
      "source": [
        "## importing the test data\n",
        "test=pd.read_csv(\"/content/drive/My Drive/test_preprocessed_house_regression.csv\")\n",
        "test.head()"
      ],
      "execution_count": 50,
      "outputs": [
        {
          "output_type": "execute_result",
          "data": {
            "text/html": [
              "<div>\n",
              "<style scoped>\n",
              "    .dataframe tbody tr th:only-of-type {\n",
              "        vertical-align: middle;\n",
              "    }\n",
              "\n",
              "    .dataframe tbody tr th {\n",
              "        vertical-align: top;\n",
              "    }\n",
              "\n",
              "    .dataframe thead th {\n",
              "        text-align: right;\n",
              "    }\n",
              "</style>\n",
              "<table border=\"1\" class=\"dataframe\">\n",
              "  <thead>\n",
              "    <tr style=\"text-align: right;\">\n",
              "      <th></th>\n",
              "      <th>Id</th>\n",
              "      <th>MSSubClass</th>\n",
              "      <th>MSZoning</th>\n",
              "      <th>LotFrontage</th>\n",
              "      <th>LotArea</th>\n",
              "      <th>Street</th>\n",
              "      <th>Alley</th>\n",
              "      <th>LotShape</th>\n",
              "      <th>LandContour</th>\n",
              "      <th>Utilities</th>\n",
              "      <th>LotConfig</th>\n",
              "      <th>LandSlope</th>\n",
              "      <th>Neighborhood</th>\n",
              "      <th>Condition1</th>\n",
              "      <th>Condition2</th>\n",
              "      <th>BldgType</th>\n",
              "      <th>HouseStyle</th>\n",
              "      <th>OverallQual</th>\n",
              "      <th>OverallCond</th>\n",
              "      <th>YearBuilt</th>\n",
              "      <th>YearRemodAdd</th>\n",
              "      <th>RoofStyle</th>\n",
              "      <th>RoofMatl</th>\n",
              "      <th>Exterior1st</th>\n",
              "      <th>Exterior2nd</th>\n",
              "      <th>MasVnrType</th>\n",
              "      <th>MasVnrArea</th>\n",
              "      <th>ExterQual</th>\n",
              "      <th>ExterCond</th>\n",
              "      <th>Foundation</th>\n",
              "      <th>BsmtQual</th>\n",
              "      <th>BsmtCond</th>\n",
              "      <th>BsmtExposure</th>\n",
              "      <th>BsmtFinType1</th>\n",
              "      <th>BsmtFinSF1</th>\n",
              "      <th>BsmtFinType2</th>\n",
              "      <th>BsmtFinSF2</th>\n",
              "      <th>BsmtUnfSF</th>\n",
              "      <th>TotalBsmtSF</th>\n",
              "      <th>Heating</th>\n",
              "      <th>HeatingQC</th>\n",
              "      <th>CentralAir</th>\n",
              "      <th>Electrical</th>\n",
              "      <th>1stFlrSF</th>\n",
              "      <th>2ndFlrSF</th>\n",
              "      <th>LowQualFinSF</th>\n",
              "      <th>GrLivArea</th>\n",
              "      <th>BsmtFullBath</th>\n",
              "      <th>BsmtHalfBath</th>\n",
              "      <th>FullBath</th>\n",
              "      <th>HalfBath</th>\n",
              "      <th>BedroomAbvGr</th>\n",
              "      <th>KitchenAbvGr</th>\n",
              "      <th>KitchenQual</th>\n",
              "      <th>TotRmsAbvGrd</th>\n",
              "      <th>Functional</th>\n",
              "      <th>Fireplaces</th>\n",
              "      <th>FireplaceQu</th>\n",
              "      <th>GarageType</th>\n",
              "      <th>GarageYrBlt</th>\n",
              "      <th>GarageFinish</th>\n",
              "      <th>GarageCars</th>\n",
              "      <th>GarageArea</th>\n",
              "      <th>GarageQual</th>\n",
              "      <th>GarageCond</th>\n",
              "      <th>PavedDrive</th>\n",
              "      <th>WoodDeckSF</th>\n",
              "      <th>OpenPorchSF</th>\n",
              "      <th>EnclosedPorch</th>\n",
              "      <th>3SsnPorch</th>\n",
              "      <th>ScreenPorch</th>\n",
              "      <th>PoolArea</th>\n",
              "      <th>PoolQC</th>\n",
              "      <th>Fence</th>\n",
              "      <th>MiscFeature</th>\n",
              "      <th>MiscVal</th>\n",
              "      <th>MoSold</th>\n",
              "      <th>YrSold</th>\n",
              "      <th>SaleType</th>\n",
              "      <th>SaleCondition</th>\n",
              "    </tr>\n",
              "  </thead>\n",
              "  <tbody>\n",
              "    <tr>\n",
              "      <th>0</th>\n",
              "      <td>1461</td>\n",
              "      <td>20</td>\n",
              "      <td>3</td>\n",
              "      <td>80.0</td>\n",
              "      <td>11622</td>\n",
              "      <td>2</td>\n",
              "      <td>0</td>\n",
              "      <td>4</td>\n",
              "      <td>4</td>\n",
              "      <td>1</td>\n",
              "      <td>5</td>\n",
              "      <td>1</td>\n",
              "      <td>13</td>\n",
              "      <td>2</td>\n",
              "      <td>3</td>\n",
              "      <td>1</td>\n",
              "      <td>3</td>\n",
              "      <td>5</td>\n",
              "      <td>6</td>\n",
              "      <td>1961</td>\n",
              "      <td>1961</td>\n",
              "      <td>2</td>\n",
              "      <td>1</td>\n",
              "      <td>11</td>\n",
              "      <td>13</td>\n",
              "      <td>3</td>\n",
              "      <td>0.0</td>\n",
              "      <td>4</td>\n",
              "      <td>5</td>\n",
              "      <td>2</td>\n",
              "      <td>4</td>\n",
              "      <td>4</td>\n",
              "      <td>4</td>\n",
              "      <td>5</td>\n",
              "      <td>468.0</td>\n",
              "      <td>4</td>\n",
              "      <td>144.0</td>\n",
              "      <td>270.0</td>\n",
              "      <td>882.0</td>\n",
              "      <td>1</td>\n",
              "      <td>5</td>\n",
              "      <td>2</td>\n",
              "      <td>4</td>\n",
              "      <td>896</td>\n",
              "      <td>0</td>\n",
              "      <td>0</td>\n",
              "      <td>896</td>\n",
              "      <td>0.0</td>\n",
              "      <td>0.0</td>\n",
              "      <td>1</td>\n",
              "      <td>0</td>\n",
              "      <td>2</td>\n",
              "      <td>1</td>\n",
              "      <td>4</td>\n",
              "      <td>5</td>\n",
              "      <td>7</td>\n",
              "      <td>0</td>\n",
              "      <td>0</td>\n",
              "      <td>2</td>\n",
              "      <td>1961.0</td>\n",
              "      <td>3</td>\n",
              "      <td>1.0</td>\n",
              "      <td>730.0</td>\n",
              "      <td>4</td>\n",
              "      <td>5</td>\n",
              "      <td>3</td>\n",
              "      <td>140</td>\n",
              "      <td>0</td>\n",
              "      <td>0</td>\n",
              "      <td>0</td>\n",
              "      <td>120</td>\n",
              "      <td>0</td>\n",
              "      <td>0</td>\n",
              "      <td>3</td>\n",
              "      <td>0</td>\n",
              "      <td>0</td>\n",
              "      <td>6</td>\n",
              "      <td>2010</td>\n",
              "      <td>9</td>\n",
              "      <td>5</td>\n",
              "    </tr>\n",
              "    <tr>\n",
              "      <th>1</th>\n",
              "      <td>1462</td>\n",
              "      <td>20</td>\n",
              "      <td>4</td>\n",
              "      <td>81.0</td>\n",
              "      <td>14267</td>\n",
              "      <td>2</td>\n",
              "      <td>0</td>\n",
              "      <td>1</td>\n",
              "      <td>4</td>\n",
              "      <td>1</td>\n",
              "      <td>1</td>\n",
              "      <td>1</td>\n",
              "      <td>13</td>\n",
              "      <td>3</td>\n",
              "      <td>3</td>\n",
              "      <td>1</td>\n",
              "      <td>3</td>\n",
              "      <td>6</td>\n",
              "      <td>6</td>\n",
              "      <td>1958</td>\n",
              "      <td>1958</td>\n",
              "      <td>4</td>\n",
              "      <td>1</td>\n",
              "      <td>12</td>\n",
              "      <td>14</td>\n",
              "      <td>2</td>\n",
              "      <td>108.0</td>\n",
              "      <td>4</td>\n",
              "      <td>5</td>\n",
              "      <td>2</td>\n",
              "      <td>4</td>\n",
              "      <td>4</td>\n",
              "      <td>4</td>\n",
              "      <td>1</td>\n",
              "      <td>923.0</td>\n",
              "      <td>6</td>\n",
              "      <td>0.0</td>\n",
              "      <td>406.0</td>\n",
              "      <td>1329.0</td>\n",
              "      <td>1</td>\n",
              "      <td>5</td>\n",
              "      <td>2</td>\n",
              "      <td>4</td>\n",
              "      <td>1329</td>\n",
              "      <td>0</td>\n",
              "      <td>0</td>\n",
              "      <td>1329</td>\n",
              "      <td>0.0</td>\n",
              "      <td>0.0</td>\n",
              "      <td>1</td>\n",
              "      <td>1</td>\n",
              "      <td>3</td>\n",
              "      <td>1</td>\n",
              "      <td>3</td>\n",
              "      <td>6</td>\n",
              "      <td>7</td>\n",
              "      <td>0</td>\n",
              "      <td>0</td>\n",
              "      <td>2</td>\n",
              "      <td>1958.0</td>\n",
              "      <td>3</td>\n",
              "      <td>1.0</td>\n",
              "      <td>312.0</td>\n",
              "      <td>4</td>\n",
              "      <td>5</td>\n",
              "      <td>3</td>\n",
              "      <td>393</td>\n",
              "      <td>36</td>\n",
              "      <td>0</td>\n",
              "      <td>0</td>\n",
              "      <td>0</td>\n",
              "      <td>0</td>\n",
              "      <td>0</td>\n",
              "      <td>0</td>\n",
              "      <td>1</td>\n",
              "      <td>12500</td>\n",
              "      <td>6</td>\n",
              "      <td>2010</td>\n",
              "      <td>9</td>\n",
              "      <td>5</td>\n",
              "    </tr>\n",
              "    <tr>\n",
              "      <th>2</th>\n",
              "      <td>1463</td>\n",
              "      <td>60</td>\n",
              "      <td>4</td>\n",
              "      <td>74.0</td>\n",
              "      <td>13830</td>\n",
              "      <td>2</td>\n",
              "      <td>0</td>\n",
              "      <td>1</td>\n",
              "      <td>4</td>\n",
              "      <td>1</td>\n",
              "      <td>5</td>\n",
              "      <td>1</td>\n",
              "      <td>9</td>\n",
              "      <td>3</td>\n",
              "      <td>3</td>\n",
              "      <td>1</td>\n",
              "      <td>5</td>\n",
              "      <td>5</td>\n",
              "      <td>5</td>\n",
              "      <td>1997</td>\n",
              "      <td>1998</td>\n",
              "      <td>2</td>\n",
              "      <td>1</td>\n",
              "      <td>11</td>\n",
              "      <td>13</td>\n",
              "      <td>3</td>\n",
              "      <td>0.0</td>\n",
              "      <td>4</td>\n",
              "      <td>5</td>\n",
              "      <td>3</td>\n",
              "      <td>3</td>\n",
              "      <td>4</td>\n",
              "      <td>4</td>\n",
              "      <td>3</td>\n",
              "      <td>791.0</td>\n",
              "      <td>6</td>\n",
              "      <td>0.0</td>\n",
              "      <td>137.0</td>\n",
              "      <td>928.0</td>\n",
              "      <td>1</td>\n",
              "      <td>3</td>\n",
              "      <td>2</td>\n",
              "      <td>4</td>\n",
              "      <td>928</td>\n",
              "      <td>701</td>\n",
              "      <td>0</td>\n",
              "      <td>1629</td>\n",
              "      <td>0.0</td>\n",
              "      <td>0.0</td>\n",
              "      <td>2</td>\n",
              "      <td>1</td>\n",
              "      <td>3</td>\n",
              "      <td>1</td>\n",
              "      <td>4</td>\n",
              "      <td>6</td>\n",
              "      <td>7</td>\n",
              "      <td>1</td>\n",
              "      <td>5</td>\n",
              "      <td>2</td>\n",
              "      <td>1997.0</td>\n",
              "      <td>1</td>\n",
              "      <td>2.0</td>\n",
              "      <td>482.0</td>\n",
              "      <td>4</td>\n",
              "      <td>5</td>\n",
              "      <td>3</td>\n",
              "      <td>212</td>\n",
              "      <td>34</td>\n",
              "      <td>0</td>\n",
              "      <td>0</td>\n",
              "      <td>0</td>\n",
              "      <td>0</td>\n",
              "      <td>0</td>\n",
              "      <td>3</td>\n",
              "      <td>0</td>\n",
              "      <td>0</td>\n",
              "      <td>3</td>\n",
              "      <td>2010</td>\n",
              "      <td>9</td>\n",
              "      <td>5</td>\n",
              "    </tr>\n",
              "    <tr>\n",
              "      <th>3</th>\n",
              "      <td>1464</td>\n",
              "      <td>60</td>\n",
              "      <td>4</td>\n",
              "      <td>78.0</td>\n",
              "      <td>9978</td>\n",
              "      <td>2</td>\n",
              "      <td>0</td>\n",
              "      <td>1</td>\n",
              "      <td>4</td>\n",
              "      <td>1</td>\n",
              "      <td>5</td>\n",
              "      <td>1</td>\n",
              "      <td>9</td>\n",
              "      <td>3</td>\n",
              "      <td>3</td>\n",
              "      <td>1</td>\n",
              "      <td>5</td>\n",
              "      <td>6</td>\n",
              "      <td>6</td>\n",
              "      <td>1998</td>\n",
              "      <td>1998</td>\n",
              "      <td>2</td>\n",
              "      <td>1</td>\n",
              "      <td>11</td>\n",
              "      <td>13</td>\n",
              "      <td>2</td>\n",
              "      <td>20.0</td>\n",
              "      <td>4</td>\n",
              "      <td>5</td>\n",
              "      <td>3</td>\n",
              "      <td>4</td>\n",
              "      <td>4</td>\n",
              "      <td>4</td>\n",
              "      <td>3</td>\n",
              "      <td>602.0</td>\n",
              "      <td>6</td>\n",
              "      <td>0.0</td>\n",
              "      <td>324.0</td>\n",
              "      <td>926.0</td>\n",
              "      <td>1</td>\n",
              "      <td>1</td>\n",
              "      <td>2</td>\n",
              "      <td>4</td>\n",
              "      <td>926</td>\n",
              "      <td>678</td>\n",
              "      <td>0</td>\n",
              "      <td>1604</td>\n",
              "      <td>0.0</td>\n",
              "      <td>0.0</td>\n",
              "      <td>2</td>\n",
              "      <td>1</td>\n",
              "      <td>3</td>\n",
              "      <td>1</td>\n",
              "      <td>3</td>\n",
              "      <td>7</td>\n",
              "      <td>7</td>\n",
              "      <td>1</td>\n",
              "      <td>3</td>\n",
              "      <td>2</td>\n",
              "      <td>1998.0</td>\n",
              "      <td>1</td>\n",
              "      <td>2.0</td>\n",
              "      <td>470.0</td>\n",
              "      <td>4</td>\n",
              "      <td>5</td>\n",
              "      <td>3</td>\n",
              "      <td>360</td>\n",
              "      <td>36</td>\n",
              "      <td>0</td>\n",
              "      <td>0</td>\n",
              "      <td>0</td>\n",
              "      <td>0</td>\n",
              "      <td>0</td>\n",
              "      <td>0</td>\n",
              "      <td>0</td>\n",
              "      <td>0</td>\n",
              "      <td>6</td>\n",
              "      <td>2010</td>\n",
              "      <td>9</td>\n",
              "      <td>5</td>\n",
              "    </tr>\n",
              "    <tr>\n",
              "      <th>4</th>\n",
              "      <td>1465</td>\n",
              "      <td>120</td>\n",
              "      <td>4</td>\n",
              "      <td>43.0</td>\n",
              "      <td>5005</td>\n",
              "      <td>2</td>\n",
              "      <td>0</td>\n",
              "      <td>1</td>\n",
              "      <td>2</td>\n",
              "      <td>1</td>\n",
              "      <td>5</td>\n",
              "      <td>1</td>\n",
              "      <td>23</td>\n",
              "      <td>3</td>\n",
              "      <td>3</td>\n",
              "      <td>5</td>\n",
              "      <td>3</td>\n",
              "      <td>8</td>\n",
              "      <td>5</td>\n",
              "      <td>1992</td>\n",
              "      <td>1992</td>\n",
              "      <td>2</td>\n",
              "      <td>1</td>\n",
              "      <td>7</td>\n",
              "      <td>7</td>\n",
              "      <td>3</td>\n",
              "      <td>0.0</td>\n",
              "      <td>3</td>\n",
              "      <td>5</td>\n",
              "      <td>3</td>\n",
              "      <td>3</td>\n",
              "      <td>4</td>\n",
              "      <td>4</td>\n",
              "      <td>1</td>\n",
              "      <td>263.0</td>\n",
              "      <td>6</td>\n",
              "      <td>0.0</td>\n",
              "      <td>1017.0</td>\n",
              "      <td>1280.0</td>\n",
              "      <td>1</td>\n",
              "      <td>1</td>\n",
              "      <td>2</td>\n",
              "      <td>4</td>\n",
              "      <td>1280</td>\n",
              "      <td>0</td>\n",
              "      <td>0</td>\n",
              "      <td>1280</td>\n",
              "      <td>0.0</td>\n",
              "      <td>0.0</td>\n",
              "      <td>2</td>\n",
              "      <td>0</td>\n",
              "      <td>2</td>\n",
              "      <td>1</td>\n",
              "      <td>3</td>\n",
              "      <td>5</td>\n",
              "      <td>7</td>\n",
              "      <td>0</td>\n",
              "      <td>0</td>\n",
              "      <td>2</td>\n",
              "      <td>1992.0</td>\n",
              "      <td>2</td>\n",
              "      <td>2.0</td>\n",
              "      <td>506.0</td>\n",
              "      <td>4</td>\n",
              "      <td>5</td>\n",
              "      <td>3</td>\n",
              "      <td>0</td>\n",
              "      <td>82</td>\n",
              "      <td>0</td>\n",
              "      <td>0</td>\n",
              "      <td>144</td>\n",
              "      <td>0</td>\n",
              "      <td>0</td>\n",
              "      <td>0</td>\n",
              "      <td>0</td>\n",
              "      <td>0</td>\n",
              "      <td>1</td>\n",
              "      <td>2010</td>\n",
              "      <td>9</td>\n",
              "      <td>5</td>\n",
              "    </tr>\n",
              "  </tbody>\n",
              "</table>\n",
              "</div>"
            ],
            "text/plain": [
              "     Id  MSSubClass  MSZoning  ...  YrSold  SaleType  SaleCondition\n",
              "0  1461          20         3  ...    2010         9              5\n",
              "1  1462          20         4  ...    2010         9              5\n",
              "2  1463          60         4  ...    2010         9              5\n",
              "3  1464          60         4  ...    2010         9              5\n",
              "4  1465         120         4  ...    2010         9              5\n",
              "\n",
              "[5 rows x 80 columns]"
            ]
          },
          "metadata": {
            "tags": []
          },
          "execution_count": 50
        }
      ]
    },
    {
      "cell_type": "markdown",
      "metadata": {
        "id": "6lx0AUg2euKr",
        "colab_type": "text"
      },
      "source": [
        "##NOTE: TEST DATA PREPROCESSING IS DONE ON ANOTHER NOTEBOOK WHICH YOU CAN SEE IF YOU GO THROUGH THE REPOSITORY"
      ]
    },
    {
      "cell_type": "markdown",
      "metadata": {
        "id": "xgZBl0tHcHJe",
        "colab_type": "text"
      },
      "source": [
        "## Predicting on the model"
      ]
    },
    {
      "cell_type": "code",
      "metadata": {
        "id": "vHM8ALTtccud",
        "colab_type": "code",
        "colab": {
          "base_uri": "https://localhost:8080/",
          "height": 52
        },
        "outputId": "dbaf4e25-7e3c-47c1-b778-3e8978bc78a0"
      },
      "source": [
        "predictions=model.predict(test)\n",
        "predictions"
      ],
      "execution_count": 51,
      "outputs": [
        {
          "output_type": "execute_result",
          "data": {
            "text/plain": [
              "array([119158.68487262, 165505.87507234, 181130.61602463, ...,\n",
              "       159005.88488545, 117619.24451931, 235075.3247618 ])"
            ]
          },
          "metadata": {
            "tags": []
          },
          "execution_count": 51
        }
      ]
    },
    {
      "cell_type": "code",
      "metadata": {
        "id": "pXpeWOAZcg31",
        "colab_type": "code",
        "colab": {
          "base_uri": "https://localhost:8080/",
          "height": 47
        },
        "outputId": "bdc34dda-f48f-4228-9c8a-9be37478c547"
      },
      "source": [
        "## Creating data frame \n",
        "submit_to_kaggle_colab=pd.DataFrame(columns=['Id','SalePrice'])\n",
        "submit_to_kaggle_colab"
      ],
      "execution_count": 53,
      "outputs": [
        {
          "output_type": "execute_result",
          "data": {
            "text/html": [
              "<div>\n",
              "<style scoped>\n",
              "    .dataframe tbody tr th:only-of-type {\n",
              "        vertical-align: middle;\n",
              "    }\n",
              "\n",
              "    .dataframe tbody tr th {\n",
              "        vertical-align: top;\n",
              "    }\n",
              "\n",
              "    .dataframe thead th {\n",
              "        text-align: right;\n",
              "    }\n",
              "</style>\n",
              "<table border=\"1\" class=\"dataframe\">\n",
              "  <thead>\n",
              "    <tr style=\"text-align: right;\">\n",
              "      <th></th>\n",
              "      <th>Id</th>\n",
              "      <th>SalePrice</th>\n",
              "    </tr>\n",
              "  </thead>\n",
              "  <tbody>\n",
              "  </tbody>\n",
              "</table>\n",
              "</div>"
            ],
            "text/plain": [
              "Empty DataFrame\n",
              "Columns: [Id, SalePrice]\n",
              "Index: []"
            ]
          },
          "metadata": {
            "tags": []
          },
          "execution_count": 53
        }
      ]
    },
    {
      "cell_type": "code",
      "metadata": {
        "id": "uwSk81dwc0kf",
        "colab_type": "code",
        "colab": {
          "base_uri": "https://localhost:8080/",
          "height": 406
        },
        "outputId": "f9dcb83a-2ab1-4cdc-c48a-4c6e0b4435df"
      },
      "source": [
        "submit_to_kaggle_colab[\"Id\"],submit_to_kaggle_colab[\"SalePrice\"]=test[\"Id\"],predictions\n",
        "submit_to_kaggle_colab"
      ],
      "execution_count": 54,
      "outputs": [
        {
          "output_type": "execute_result",
          "data": {
            "text/html": [
              "<div>\n",
              "<style scoped>\n",
              "    .dataframe tbody tr th:only-of-type {\n",
              "        vertical-align: middle;\n",
              "    }\n",
              "\n",
              "    .dataframe tbody tr th {\n",
              "        vertical-align: top;\n",
              "    }\n",
              "\n",
              "    .dataframe thead th {\n",
              "        text-align: right;\n",
              "    }\n",
              "</style>\n",
              "<table border=\"1\" class=\"dataframe\">\n",
              "  <thead>\n",
              "    <tr style=\"text-align: right;\">\n",
              "      <th></th>\n",
              "      <th>Id</th>\n",
              "      <th>SalePrice</th>\n",
              "    </tr>\n",
              "  </thead>\n",
              "  <tbody>\n",
              "    <tr>\n",
              "      <th>0</th>\n",
              "      <td>1461</td>\n",
              "      <td>119158.684873</td>\n",
              "    </tr>\n",
              "    <tr>\n",
              "      <th>1</th>\n",
              "      <td>1462</td>\n",
              "      <td>165505.875072</td>\n",
              "    </tr>\n",
              "    <tr>\n",
              "      <th>2</th>\n",
              "      <td>1463</td>\n",
              "      <td>181130.616025</td>\n",
              "    </tr>\n",
              "    <tr>\n",
              "      <th>3</th>\n",
              "      <td>1464</td>\n",
              "      <td>184503.432843</td>\n",
              "    </tr>\n",
              "    <tr>\n",
              "      <th>4</th>\n",
              "      <td>1465</td>\n",
              "      <td>183681.246909</td>\n",
              "    </tr>\n",
              "    <tr>\n",
              "      <th>...</th>\n",
              "      <td>...</td>\n",
              "      <td>...</td>\n",
              "    </tr>\n",
              "    <tr>\n",
              "      <th>1454</th>\n",
              "      <td>2915</td>\n",
              "      <td>72891.347321</td>\n",
              "    </tr>\n",
              "    <tr>\n",
              "      <th>1455</th>\n",
              "      <td>2916</td>\n",
              "      <td>75905.356421</td>\n",
              "    </tr>\n",
              "    <tr>\n",
              "      <th>1456</th>\n",
              "      <td>2917</td>\n",
              "      <td>159005.884885</td>\n",
              "    </tr>\n",
              "    <tr>\n",
              "      <th>1457</th>\n",
              "      <td>2918</td>\n",
              "      <td>117619.244519</td>\n",
              "    </tr>\n",
              "    <tr>\n",
              "      <th>1458</th>\n",
              "      <td>2919</td>\n",
              "      <td>235075.324762</td>\n",
              "    </tr>\n",
              "  </tbody>\n",
              "</table>\n",
              "<p>1459 rows × 2 columns</p>\n",
              "</div>"
            ],
            "text/plain": [
              "        Id      SalePrice\n",
              "0     1461  119158.684873\n",
              "1     1462  165505.875072\n",
              "2     1463  181130.616025\n",
              "3     1464  184503.432843\n",
              "4     1465  183681.246909\n",
              "...    ...            ...\n",
              "1454  2915   72891.347321\n",
              "1455  2916   75905.356421\n",
              "1456  2917  159005.884885\n",
              "1457  2918  117619.244519\n",
              "1458  2919  235075.324762\n",
              "\n",
              "[1459 rows x 2 columns]"
            ]
          },
          "metadata": {
            "tags": []
          },
          "execution_count": 54
        }
      ]
    },
    {
      "cell_type": "code",
      "metadata": {
        "id": "UzoqCqiudA3c",
        "colab_type": "code",
        "colab": {}
      },
      "source": [
        "## Exporting the data to be submitted in the kaggle\n",
        "submit_to_kaggle_colab.to_csv(\"submit_to_kaggle_colab.csv\",index=False)"
      ],
      "execution_count": 55,
      "outputs": []
    },
    {
      "cell_type": "code",
      "metadata": {
        "id": "iFt2AUx0dNh9",
        "colab_type": "code",
        "colab": {}
      },
      "source": [
        ""
      ],
      "execution_count": null,
      "outputs": []
    }
  ]
}